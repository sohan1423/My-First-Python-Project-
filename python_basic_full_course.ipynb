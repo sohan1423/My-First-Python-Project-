{
  "nbformat": 4,
  "nbformat_minor": 0,
  "metadata": {
    "colab": {
      "provenance": [],
      "authorship_tag": "ABX9TyPC60jDkJu9fLmqWjGmcPa6",
      "include_colab_link": true
    },
    "kernelspec": {
      "name": "python3",
      "display_name": "Python 3"
    },
    "language_info": {
      "name": "python"
    }
  },
  "cells": [
    {
      "cell_type": "markdown",
      "metadata": {
        "id": "view-in-github",
        "colab_type": "text"
      },
      "source": [
        "<a href=\"https://colab.research.google.com/github/sohan1423/My-First-Python-Project-/blob/main/python_basic_full_course.ipynb\" target=\"_parent\"><img src=\"https://colab.research.google.com/assets/colab-badge.svg\" alt=\"Open In Colab\"/></a>"
      ]
    },
    {
      "cell_type": "markdown",
      "source": [
        "#Let't Go!"
      ],
      "metadata": {
        "id": "82vIfVMZPaVW"
      }
    },
    {
      "cell_type": "code",
      "execution_count": 1,
      "metadata": {
        "colab": {
          "base_uri": "https://localhost:8080/"
        },
        "id": "MsxACc19YFKH",
        "outputId": "2d551b11-0c51-41cd-d318-90bd85f9a20a"
      },
      "outputs": [
        {
          "output_type": "stream",
          "name": "stdout",
          "text": [
            "Hi Sora\n"
          ]
        }
      ],
      "source": [
        "print(\"Hi Sora\" )"
      ]
    },
    {
      "cell_type": "markdown",
      "source": [
        "#variable\n"
      ],
      "metadata": {
        "id": "ojXik_Rz7CKk"
      }
    },
    {
      "cell_type": "code",
      "source": [
        "s= 1\n",
        "print(s)"
      ],
      "metadata": {
        "colab": {
          "base_uri": "https://localhost:8080/"
        },
        "id": "5KY0P3oP48sa",
        "outputId": "ac02523c-5c22-442a-94a5-a34cfa48f00f"
      },
      "execution_count": 2,
      "outputs": [
        {
          "output_type": "stream",
          "name": "stdout",
          "text": [
            "1\n"
          ]
        }
      ]
    },
    {
      "cell_type": "code",
      "source": [
        "s = 2"
      ],
      "metadata": {
        "id": "BEQqFsSI5DfC"
      },
      "execution_count": 3,
      "outputs": []
    },
    {
      "cell_type": "code",
      "source": [
        "print(s)"
      ],
      "metadata": {
        "colab": {
          "base_uri": "https://localhost:8080/"
        },
        "id": "GAVUyAQt5GaN",
        "outputId": "d7e5c737-6b9a-4576-e11f-9aede74d2801"
      },
      "execution_count": 4,
      "outputs": [
        {
          "output_type": "stream",
          "name": "stdout",
          "text": [
            "2\n"
          ]
        }
      ]
    },
    {
      "cell_type": "markdown",
      "source": [
        "#Install module\n"
      ],
      "metadata": {
        "id": "YwQnyWVT9OvH"
      }
    },
    {
      "cell_type": "code",
      "source": [
        "pip install pyjokes\n"
      ],
      "metadata": {
        "colab": {
          "base_uri": "https://localhost:8080/"
        },
        "id": "hXBcpbwz7xxn",
        "outputId": "c15191b7-b8b5-4dd4-849e-2c5e9081c257"
      },
      "execution_count": 63,
      "outputs": [
        {
          "output_type": "stream",
          "name": "stdout",
          "text": [
            "Requirement already satisfied: pyjokes in /usr/local/lib/python3.12/dist-packages (0.8.3)\n"
          ]
        }
      ]
    },
    {
      "cell_type": "code",
      "source": [
        "import pyjokes\n",
        "joke = pyjokes.get_jokes()\n",
        "print(joke)"
      ],
      "metadata": {
        "id": "XzoltivM8CFm",
        "colab": {
          "base_uri": "https://localhost:8080/"
        },
        "outputId": "2de197bf-08b0-4991-dc3a-2e7f99338c27"
      },
      "execution_count": 6,
      "outputs": [
        {
          "output_type": "stream",
          "name": "stdout",
          "text": [
            "[\"Complaining about the lack of smoking shelters, the nicotine addicted Python programmers said there ought to be 'spaces for tabs'.\", 'Ubuntu users are apt to get this joke.', 'Obfuscated Reality Mappers (ORMs) can be useful database tools.', 'Asked to explain Unicode during an interview, Geoff went into detail about his final year university project. He was not hired.', \"Triumphantly, Beth removed Python 2.7 from her server in 2030. 'Finally!' she said with glee, only to see the announcement for Python 4.4.\", \"An SQL query goes into a bar, walks up to two tables and asks, 'Can I join you?'\", 'When your hammer is C++, everything begins to look like a thumb.', 'If you put a million monkeys at a million keyboards, one of them will eventually write a Java program. The rest of them will write Perl.', 'To understand recursion you must first understand recursion.', \"I suggested holding a 'Python Object Oriented Programming Seminar', but the acronym was unpopular.\", \"'Knock, knock.' 'Who's there?' ... very long pause ... 'Java.'\", \"How many programmers does it take to change a lightbulb? None, that's a hardware problem.\", \"What's the object-oriented way to become wealthy? Inheritance.\", \"Why don't jokes work in octal? Because 7 10 11.\", 'How many programmers does it take to change a lightbulb? None, they just make darkness a standard.', \"Two bytes meet. The first byte asks, 'Are you ill?' The second byte replies, 'No, just feeling a bit off.'\", \"Two threads walk into a bar. The barkeeper looks up and yells, 'Hey, I want don't any conditions race like time last!'\", \"Old C programmers don't die, they're just cast into void.\", \"Eight bytes walk into a bar. The bartender asks, 'Can I get you anything?' 'Yeah,' replies the bytes. 'Make us a double.'\", \"Why did the programmer quit his job? Because he didn't get arrays.\", \"Why do Java programmers have to wear glasses? Because they don't see sharp.\", 'Software developers like to solve problems. If there are no problems handily available, they will create their own.', \".NET was named .NET so that it wouldn't show up in a Unix directory listing.\", 'Hardware: The part of a computer that you can kick.', \"A programmer was found dead in the shower. Next to their body was a bottle of shampoo with the instructions 'Lather, Rinse and Repeat'.\", 'Optimist: The glass is half full. Pessimist: The glass is half empty. Programmer: The glass is twice as large as necessary.', 'In C we had to code our own bugs. In C++ we can inherit them.', 'How come there is no obfuscated Perl contest? Because everyone would win.', \"If you play a Windows CD backwards, you'll hear satanic chanting ... worse still, if you play it forwards, it installs Windows.\", 'How many programmers does it take to kill a cockroach? Two: one holds, the other installs Windows on it.', 'What do you call a programmer from Finland? Nerdic.', \"What did the Java code say to the C code? A: You've got no class.\", \"Why did Microsoft name their search engine BING? Because It's Not Google.\", \"Pirates go 'arg!', computer pirates go 'argv!'\", 'Software salesmen and used-car salesmen differ in that the latter know when they are lying.', \"Child: Dad, why does the sun rise in the east and set in the west? Dad: Son, it's working, don't touch it.\", 'Why do programmers confuse Halloween with Christmas? Because OCT 31 == DEC 25.', 'How many Prolog programmers does it take to change a lightbulb? false.', 'Real programmers can write assembly code in any language.', 'Waiter: Would you like coffee or tea? Programmer: Yes.', 'What do you get when you cross a cat and a dog? Cat dog sin theta.', \"If loving you is ROM I don't wanna read write.\", 'A programmer walks into a foo...', \"A programmer walks into a bar and orders 1.38 root beers. The bartender informs her it's a root beer float. She says 'Make it a double!'\", \"What is Benoit B. Mandelbrot's middle name? Benoit B. Mandelbrot.\", \"Why are you always smiling? That's just my... regular expression.\", 'ASCII stupid question, get a stupid ANSI.', \"A programmer had a problem. He thought to himself, 'I know, I'll solve it with threads!'. has Now problems. two he\", 'Why do sin and tan work? Just cos.', 'Java: Write once, run away.', 'I would tell you a joke about UDP, but you would never get it.', 'A QA engineer walks into a bar. Runs into a bar. Crawls into a bar. Dances into a bar. Tiptoes into a bar. Rams a bar. Jumps into a bar.', \"My friend's in a band called '1023 Megabytes'... They haven't got a gig yet!\", \"I had a problem so I thought I'd use Java. Now I have a ProblemFactory.\", 'QA Engineer walks into a bar. Orders a beer. Orders 0 beers. Orders 999999999 beers. Orders a lizard. Orders -1 beers. Orders a sfdeljknesv.', 'A product manager walks into a bar, asks for drink. Bartender says no, but will consider adding later.', 'How do you generate a random string? Put a first year Computer Science student in Vim and ask them to save and exit.', \"I've been using Vim for a long time now, mainly because I can't figure out how to exit.\", \"How do you know whether a person is a Vim user? Don't worry, they'll tell you.\", \"Waiter: He's choking! Is anyone a doctor? Programmer: I'm a Vim user.\", \"3 Database Admins walked into a NoSQL bar. A little while later they walked out because they couldn't find a table.\", 'How to explain the movie Inception to a programmer? When you run a VM inside another VM, inside another VM ... everything runs real slow!', 'What do you call a parrot that says \"Squawk! Pieces of nine! Pieces of nine!\"? A parrot-ey error.', 'There are only two hard problems in Computer Science: cache invalidation, naming things and off-by-one-errors.', \"There are 10 types of people: those who understand binary and those who don't.\", 'There are 2 types of people: those who can extrapolate from incomplete data sets...', \"There are II types of people: Those who understand Roman Numerals and those who don't.\", 'There are 10 types of people: those who understand hexadecimal and 15 others.', \"There are 10 types of people: those who understand binary, those who don't, and those who were expecting this joke to be in trinary.\", \"There are 10 types of people: those who understand trinary, those who don't, and those who have never heard of it.\", 'What do you call eight hobbits? A hobbyte.', 'The best thing about a Boolean is even if you are wrong, you are only off by a bit.', 'A good programmer is someone who always looks both ways before crossing a one-way street.', 'There are two ways to write error-free programs; only the third one works.', 'QAs consist of 55% water, 30% blood and 15% Jira tickets.', 'Sympathy for the Devil is really just about being nice to QAs.', \"How many QAs does it take to change a lightbulb? They noticed that the room was dark. They don't fix problems, they find them.\", 'A programmer crashes a car at the bottom of a hill, a bystander asks what happened, he says \"No idea. Let\\'s push it back up and try again\".', \"What do you mean 911 is only for emergencies? I've got a merge conflict.\", \"Writing PHP is like peeing in the swimming pool, everyone did it, but we don't need to bring it up in public.\", \"Why did the QA cross the road? To ruin everyone's day.\", 'Number of days since I have encountered an array index error: -1.', 'Number of days since I have encountered an off-by-one error: 0.', 'Speed dating is useless. 5 minutes is not enough to properly explain the benefits of the Unix philosophy.', 'Microsoft hold a bi-monthly internal \"productive week\" where they use Google instead of Bing.', \"Schrodinger's attitude to web development: If I don't look at it in Internet Explorer then there's a chance it looks fine.\", 'Finding a good PHP developer is like looking for a needle in a haystack. Or is it a hackstack in a needle?', \"Unix is user friendly. It's just very particular about who its friends are.\", 'A COBOL programmer makes millions with Y2K remediation and decides to get cryogenically frozen. \"The year is 9999. You know COBOL, right?\"', 'The C language combines all the power of assembly language with all the ease-of-use of assembly language.', 'An SEO expert walks into a bar, bars, pub, public house, Irish pub, tavern, bartender, beer, liquor, wine, alcohol, spirits...', \"What does 'Emacs' stand for? 'Exclusively used by middle aged computer scientists.'\", 'What does pyjokes have in common with Adobe Flash? It gets updated all the time, but never gets any better.', \"Why does Waldo only wear stripes? Because he doesn't want to be spotted.\", 'I went to a street where the houses were numbered 8k, 16k, 32k, 64k, 128k, 256k and 512k. It was a trip down Memory Lane.', \"!false, (It's funny because it's true)\", \"['hip', 'hip'] (hip hip array!)\", \"Programmer: The ship I boarded crashed and I am dying! Project Manager: Then let's do a quick knowledge transfer session before you go.\", 'Are you a RESTful API? because you GET my attention, PUT some love, POST the cutest smile, and DELETE my bad day.', 'I used to know a joke about Java, but I run out of memory.', 'My girlfriend dumped me after I named a class after her. She felt I treated her like an object.', 'Girl: Do you drink? Programmer: No. Girl: Have Girlfriend? Programmer: No. Girl: Then how do you enjoy life? Programmer: I am Programmer', 'A Programmer was walking out of door for work, his wife said \"while you\\'re out, buy some milk\" and he never returned.', 'A: What is your address? Me: 173.168.15.10 A: No, your local address Me: 127.0.0.1 A: I mean your physical address B: 29:01:38:62:31:58', 'Why do programmers always mix up Halloween and Christmas? Because Oct 31 equals Dec 25.', 'Programming is 10% science, 20% ingenuity, and 70% getting the ingenuity to work with the science.', 'There are three kinds of lies: Lies, damned lies, and benchmarks.', 'All programmers are playwrights, and all computers are lousy actors.', \"Have you heard about the new Cray super computer? It's so fast, it executes an infinite loop in 6 seconds.\", 'The generation of random numbers is too important to be left to chance.', 'I just saw my life flash before my eyes and all I could see was a close tag.', 'The computer is mightier than the pen, the sword, and usually, the programmer', 'Debugging: Removing the needles from the haystack.', 'If doctors were like software engineers, they would say things like Have you tried killing yourself and being reborn?', 'Debugging is like being the detective in a crime drama where you are also the murderer.', 'The best thing about a Boolean is that even if you are wrong, you are only off by a bit.', 'If you listen to a UNIX shell, can you hear the C?', \"Why do Java programmers have to wear glasses? Because they don't C#.\", 'When Apple employees die, does their life HTML5 in front of their eyes?', 'What did the router say to the doctor? It hurts when IP.', 'Learning JavaScript is like looking both ways before you cross the street, and then getting hit by an airplane.', 'I for one am excited for the days when dereferencing a null pointer causes an aneurysm.', 'Debugging is like an onion. There are multiple layers to it, and the more you peel them back.', \"When your code does not change color automatically, Something's wrong, I can feel it.\", 'I have a joke on programming but it only works on my computer.', \"Why do you always use i and j variales in loops? It's the law......\", 'As far as we know, our computer has never had an undetected error.', 'A user friendly computer first requires a friendly user.', \"Bug? That's not a bug, that's a feature.\", 'Buy a Pentium 586/200 so you can reboot faster.', \"Computer analyst to programmer: You start coding. I'll go find out what they want.\", 'Computer programmers do it byte by byte.', \"Don't compute and drive; the life you save may be your own.\", 'How an engineer writes a program: Start by debugging an empty file...', \"If at first you don't succeed, call it version 1.0.\", 'I have a dream: 1073741824 bytes free.', \"I haven't lost my mind; it's backed up on tape somewhere.\", 'Is reading in the bathroom considered Multi-Tasking.', \"Never say 'OOPS!' always say 'Ah, Interesting!'\", \"One person's error is another person's data.\", 'Press CTRL-ALT-DEL to continue....', \"Programmer's Time-Space Continuum: Programmers continuously space the time.\", 'Speed Kills! Use Windows.', \"The box said: 'install on Windows 95, NT 4.0 or better'. So I installed it on Linux.\", 'The program is absolutely right; therefore the computer must be wrong.', \"There are only 10 types of people in this world: those who understand binary, and those who don't.\", 'There were computers in Biblical times. Eve had an Apple.', 'Those who can, do. Those who cannot, teach. Those who cannot teach, HACK!', 'User error: replace user and press any key to continue.', 'Warning, keyboard not found. Press Enter to continue.', \"Why do they call this a word processor? It's simple, ... you've seen what food processors do to food, right?\", 'Why do we want intelligent terminals when there are so many stupid users?', 'Windows is NOT a virus. Viruses DO something.', 'WINDOWS stands for Will Install Needless Data On Whole System.', 'You are making progress if each mistake is a new one.', 'You had mail, but the super-user read it, and deleted it!', 'You never finish a program, you just stop working on it.', \"You don't have to know how the computer works, just how to work the computer.\", \"You forgot to do your backup 16 days ago. Tomorrow you'll need that version.\", \"I love pressing the F5 key. It's refreshing.\", 'My favourite computer based band is the Black IPs.', \"Why was the developer bankrupt? He'd used all his cache.\", \"A friend is in a band called 1023Mb. They haven't had a gig yet.\", \"Apparently my password needs to be capitals only so I've changed it to LONDONMADRIDROME\", \"I changed my password to BeefStew but the computer told me it wasn't Stroganoff.\", \"Changed my password to fortnight but apparently that's two week.\", 'Artificial intelligence usually beats real stupidity.', 'The Internet: where men are men, women are men, and children are FBI agents.', 'Bugs come in through open Windows.', \"Unix is user friendly. It's just selective about who its friends are.\", 'Failure is not an option. It comes bundled with your Microsoft product.', 'Computers are like air conditioners: they stop working when you open Windows.', 'Beware of programmers that carry screwdrivers.', \"I'm not anti-social; I'm just not user friendly.\", 'Hey! It compiles! Ship it!', \"If Ruby is not and Perl is the answer, you don't understand the question.\", \"My attitude isn't bad. It's in beta.\", 'Programmers are tools for converting caffeine into code.', \"There are three kinds of people: those who can count and those who can't.\", 'Why do programmers prefer dark mode? Because light attracts bugs.']\n"
          ]
        }
      ]
    },
    {
      "cell_type": "markdown",
      "source": [
        "#Numbers : Int and float\n"
      ],
      "metadata": {
        "id": "ntY2bQCl9V93"
      }
    },
    {
      "cell_type": "code",
      "source": [
        "print(1+1)"
      ],
      "metadata": {
        "colab": {
          "base_uri": "https://localhost:8080/"
        },
        "id": "NcRTMTNO9ecl",
        "outputId": "e88ab409-9072-41a5-8130-8f1330d9a986"
      },
      "execution_count": 7,
      "outputs": [
        {
          "output_type": "stream",
          "name": "stdout",
          "text": [
            "2\n"
          ]
        }
      ]
    },
    {
      "cell_type": "code",
      "source": [
        "temp = -20"
      ],
      "metadata": {
        "id": "yP24a5vp9pHV"
      },
      "execution_count": 8,
      "outputs": []
    },
    {
      "cell_type": "code",
      "source": [
        "print(temp + 5)"
      ],
      "metadata": {
        "colab": {
          "base_uri": "https://localhost:8080/"
        },
        "id": "p8r59L8R97Dk",
        "outputId": "ffbb4374-b38a-4706-f4fb-0e321ffac9df"
      },
      "execution_count": 9,
      "outputs": [
        {
          "output_type": "stream",
          "name": "stdout",
          "text": [
            "-15\n"
          ]
        }
      ]
    },
    {
      "cell_type": "code",
      "source": [
        "a = 3\n",
        "b = 8\n",
        "print(a*b)"
      ],
      "metadata": {
        "colab": {
          "base_uri": "https://localhost:8080/"
        },
        "id": "xiFGES8Q-G2M",
        "outputId": "ffad118c-c620-4024-ffa7-c89c0f1f4683"
      },
      "execution_count": 10,
      "outputs": [
        {
          "output_type": "stream",
          "name": "stdout",
          "text": [
            "24\n"
          ]
        }
      ]
    },
    {
      "cell_type": "code",
      "source": [
        " age = 23\n",
        " height = 6.7\n",
        " String = \"sohan\"\n"
      ],
      "metadata": {
        "id": "XXJ_5QOl-WvD"
      },
      "execution_count": 11,
      "outputs": []
    },
    {
      "cell_type": "code",
      "source": [
        "print(String)\n",
        "print(age + height)"
      ],
      "metadata": {
        "colab": {
          "base_uri": "https://localhost:8080/"
        },
        "id": "43457hJk-x3k",
        "outputId": "f38862dd-af19-48a5-ff11-5deb2dbf20b1"
      },
      "execution_count": 12,
      "outputs": [
        {
          "output_type": "stream",
          "name": "stdout",
          "text": [
            "sohan\n",
            "29.7\n"
          ]
        }
      ]
    },
    {
      "cell_type": "markdown",
      "source": [
        "#Also use single cotetion  in string"
      ],
      "metadata": {
        "id": "he2U7mFX_wTs"
      }
    },
    {
      "cell_type": "code",
      "source": [
        "car = 's'\n",
        "print(car)"
      ],
      "metadata": {
        "colab": {
          "base_uri": "https://localhost:8080/"
        },
        "id": "PHCFnus__UTK",
        "outputId": "a477e87d-4381-45e9-9696-45d48b7ddfd5"
      },
      "execution_count": 13,
      "outputs": [
        {
          "output_type": "stream",
          "name": "stdout",
          "text": [
            "s\n"
          ]
        }
      ]
    },
    {
      "cell_type": "markdown",
      "source": [
        "#f{} used for calling string inner value\n"
      ],
      "metadata": {
        "id": "zYlT0AS6Ax-T"
      }
    },
    {
      "cell_type": "code",
      "source": [
        "print(f\"My height is  {height} inch\")"
      ],
      "metadata": {
        "colab": {
          "base_uri": "https://localhost:8080/"
        },
        "id": "6n_c2eEf_le6",
        "outputId": "c755d40b-5d37-485c-f89a-3ac87f11d8ab"
      },
      "execution_count": 14,
      "outputs": [
        {
          "output_type": "stream",
          "name": "stdout",
          "text": [
            "My height is  6.7 inch\n"
          ]
        }
      ]
    },
    {
      "cell_type": "markdown",
      "source": [
        "#booleans\n"
      ],
      "metadata": {
        "id": "SKISUZsWBe0x"
      }
    },
    {
      "cell_type": "code",
      "source": [
        "\n",
        "Igniton_is_on = True\n"
      ],
      "metadata": {
        "id": "2041qNZCAmw5"
      },
      "execution_count": 15,
      "outputs": []
    },
    {
      "cell_type": "code",
      "source": [
        "\n",
        "if Igniton_is_on:\n",
        "  print(\"Door are closed\")"
      ],
      "metadata": {
        "colab": {
          "base_uri": "https://localhost:8080/"
        },
        "id": "Jokax8aYieOH",
        "outputId": "32f797f0-c323-4ae8-e3b0-7aa525ece1eb"
      },
      "execution_count": 16,
      "outputs": [
        {
          "output_type": "stream",
          "name": "stdout",
          "text": [
            "Door are closed\n"
          ]
        }
      ]
    },
    {
      "cell_type": "code",
      "source": [
        "m = 30\n",
        "if m>18:\n",
        "  print(\"mileage is good \")\n",
        "else:\n",
        "  print(\"milage is bad \")\n"
      ],
      "metadata": {
        "colab": {
          "base_uri": "https://localhost:8080/"
        },
        "id": "Fc9ShFAningZ",
        "outputId": "4aca5ee2-0410-45f2-ef0f-f0cb53b1c910"
      },
      "execution_count": 17,
      "outputs": [
        {
          "output_type": "stream",
          "name": "stdout",
          "text": [
            "mileage is good \n"
          ]
        }
      ]
    },
    {
      "cell_type": "markdown",
      "source": [
        "###ramdom module project----every time generate different int number between 1 to 100\n",
        "\n"
      ],
      "metadata": {
        "id": "zegPjtnCmlTn"
      }
    },
    {
      "cell_type": "code",
      "source": [
        "import random\n",
        "random.randint(1,100)"
      ],
      "metadata": {
        "colab": {
          "base_uri": "https://localhost:8080/"
        },
        "id": "CMJWWg8FmlD2",
        "outputId": "410cff48-9866-4b86-daaa-a56cfc621597"
      },
      "execution_count": 18,
      "outputs": [
        {
          "output_type": "execute_result",
          "data": {
            "text/plain": [
              "50"
            ]
          },
          "metadata": {},
          "execution_count": 18
        }
      ]
    },
    {
      "cell_type": "markdown",
      "source": [
        "#For float number"
      ],
      "metadata": {
        "id": "ktey8GnXnVCU"
      }
    },
    {
      "cell_type": "code",
      "source": [
        "random.random()"
      ],
      "metadata": {
        "colab": {
          "base_uri": "https://localhost:8080/"
        },
        "id": "LDh26hDylUlm",
        "outputId": "51740a01-c944-4741-87c6-06f4c7310195"
      },
      "execution_count": 19,
      "outputs": [
        {
          "output_type": "execute_result",
          "data": {
            "text/plain": [
              "0.5613302578756666"
            ]
          },
          "metadata": {},
          "execution_count": 19
        }
      ]
    },
    {
      "cell_type": "code",
      "source": [
        "import random\n",
        "luckey_num = random.randint(1,3)\n",
        "if luckey_num == 1:\n",
        "  print(\"bike\")\n",
        "if luckey_num == 2:\n",
        "  print(\"car\")\n",
        "if luckey_num == 3:\n",
        "  print(\"Mobile\")"
      ],
      "metadata": {
        "colab": {
          "base_uri": "https://localhost:8080/"
        },
        "id": "S2dLeKifndAc",
        "outputId": "25311613-4884-462d-e0d0-927c94d76899"
      },
      "execution_count": 20,
      "outputs": [
        {
          "output_type": "stream",
          "name": "stdout",
          "text": [
            "bike\n"
          ]
        }
      ]
    },
    {
      "cell_type": "markdown",
      "source": [
        "#List, Loop and Dictionaries\n"
      ],
      "metadata": {
        "id": "37Epa7Skx60I"
      }
    },
    {
      "cell_type": "code",
      "source": [
        "List = [1,4,6,4.5,\"sohan\"]\n",
        "print(List)"
      ],
      "metadata": {
        "id": "Y869NmaNpRf7",
        "colab": {
          "base_uri": "https://localhost:8080/"
        },
        "outputId": "9c90b148-cb71-4d2f-da69-b4ada2607d0a"
      },
      "execution_count": 21,
      "outputs": [
        {
          "output_type": "stream",
          "name": "stdout",
          "text": [
            "[1, 4, 6, 4.5, 'sohan']\n"
          ]
        }
      ]
    },
    {
      "cell_type": "markdown",
      "source": [
        "#index print\n"
      ],
      "metadata": {
        "id": "tGcZ1aosy9Fo"
      }
    },
    {
      "cell_type": "code",
      "source": [
        "print(List[3])\n"
      ],
      "metadata": {
        "colab": {
          "base_uri": "https://localhost:8080/"
        },
        "id": "RYOjOgcxyddv",
        "outputId": "abda70ca-4800-4b02-ee2a-d5c5555d053d"
      },
      "execution_count": 22,
      "outputs": [
        {
          "output_type": "stream",
          "name": "stdout",
          "text": [
            "4.5\n"
          ]
        }
      ]
    },
    {
      "cell_type": "markdown",
      "source": [
        "#print the lenth or the list\n"
      ],
      "metadata": {
        "id": "SlPDexWWzuWn"
      }
    },
    {
      "cell_type": "code",
      "source": [
        "my_list = [1,3,\"Car\",3.5,6,6]\n",
        "print(my_list[2])"
      ],
      "metadata": {
        "colab": {
          "base_uri": "https://localhost:8080/"
        },
        "id": "YhwnvX6nzadu",
        "outputId": "ab3587e2-a0e6-4130-c7bb-7c38cd4bd546"
      },
      "execution_count": 23,
      "outputs": [
        {
          "output_type": "stream",
          "name": "stdout",
          "text": [
            "Car\n"
          ]
        }
      ]
    },
    {
      "cell_type": "markdown",
      "source": [
        "# removes dulpicate value in a list"
      ],
      "metadata": {
        "id": "YwPkyiDo05M0"
      }
    },
    {
      "cell_type": "code",
      "source": [
        "\n",
        "my_list = list(dict.fromkeys(my_list))\n",
        "print(my_list)"
      ],
      "metadata": {
        "colab": {
          "base_uri": "https://localhost:8080/"
        },
        "id": "hZHGneiZ0Lcl",
        "outputId": "9a93b393-af69-4fec-d28d-88e3fe2c1911"
      },
      "execution_count": 24,
      "outputs": [
        {
          "output_type": "stream",
          "name": "stdout",
          "text": [
            "[1, 3, 'Car', 3.5, 6]\n"
          ]
        }
      ]
    },
    {
      "cell_type": "markdown",
      "source": [
        "#list Add , insert , delete"
      ],
      "metadata": {
        "id": "kRRR06ht1ZM0"
      }
    },
    {
      "cell_type": "code",
      "source": [
        "my_list.append(\"sohan\")\n",
        "print(my_list)\n",
        "\n"
      ],
      "metadata": {
        "colab": {
          "base_uri": "https://localhost:8080/"
        },
        "id": "yELw6wuQ1N5c",
        "outputId": "e2957e95-3878-4ea4-cae9-105c3341b13f"
      },
      "execution_count": 25,
      "outputs": [
        {
          "output_type": "stream",
          "name": "stdout",
          "text": [
            "[1, 3, 'Car', 3.5, 6, 'sohan']\n"
          ]
        }
      ]
    },
    {
      "cell_type": "code",
      "source": [
        "del(my_list[0])\n",
        "print(my_list)"
      ],
      "metadata": {
        "colab": {
          "base_uri": "https://localhost:8080/"
        },
        "id": "YxfUKrCW2OE8",
        "outputId": "ece25097-03a0-46f5-87f7-35e848a5a0e2"
      },
      "execution_count": 26,
      "outputs": [
        {
          "output_type": "stream",
          "name": "stdout",
          "text": [
            "[3, 'Car', 3.5, 6, 'sohan']\n"
          ]
        }
      ]
    },
    {
      "cell_type": "code",
      "source": [
        "my_list.insert(4, \"Rinthi\")\n",
        "print(my_list)"
      ],
      "metadata": {
        "colab": {
          "base_uri": "https://localhost:8080/"
        },
        "id": "FYwyeMZV9N_o",
        "outputId": "b3013570-a944-4a23-b581-069615967ebd"
      },
      "execution_count": 27,
      "outputs": [
        {
          "output_type": "stream",
          "name": "stdout",
          "text": [
            "[3, 'Car', 3.5, 6, 'Rinthi', 'sohan']\n"
          ]
        }
      ]
    },
    {
      "cell_type": "markdown",
      "source": [
        "# for loop"
      ],
      "metadata": {
        "id": "UFVNEmcZ4M_b"
      }
    },
    {
      "cell_type": "code",
      "source": [
        "for value in range(5):\n",
        "  print(\"I Love you Rinthi\")\n"
      ],
      "metadata": {
        "colab": {
          "base_uri": "https://localhost:8080/"
        },
        "id": "PRzq54T14O8R",
        "outputId": "cfe62b40-d396-472f-ab0b-ba8010a19923"
      },
      "execution_count": 28,
      "outputs": [
        {
          "output_type": "stream",
          "name": "stdout",
          "text": [
            "I Love you Rinthi\n",
            "I Love you Rinthi\n",
            "I Love you Rinthi\n",
            "I Love you Rinthi\n",
            "I Love you Rinthi\n"
          ]
        }
      ]
    },
    {
      "cell_type": "code",
      "source": [
        "for value in range(1,5):\n",
        "  print(value, \"I Love you Rinthi\")\n"
      ],
      "metadata": {
        "colab": {
          "base_uri": "https://localhost:8080/"
        },
        "id": "dHzS_RVZ4iw5",
        "outputId": "297975b0-5cf0-431b-fd40-c698aeffd01d"
      },
      "execution_count": 29,
      "outputs": [
        {
          "output_type": "stream",
          "name": "stdout",
          "text": [
            "1 I Love you Rinthi\n",
            "2 I Love you Rinthi\n",
            "3 I Love you Rinthi\n",
            "4 I Love you Rinthi\n"
          ]
        }
      ]
    },
    {
      "cell_type": "code",
      "source": [
        "for name in my_list:\n",
        "  print(name)"
      ],
      "metadata": {
        "colab": {
          "base_uri": "https://localhost:8080/"
        },
        "id": "c4AvlHI16Umf",
        "outputId": "9e0e0968-b9ff-40e1-803a-a7ef1187f846"
      },
      "execution_count": 30,
      "outputs": [
        {
          "output_type": "stream",
          "name": "stdout",
          "text": [
            "3\n",
            "Car\n",
            "3.5\n",
            "6\n",
            "Rinthi\n",
            "sohan\n"
          ]
        }
      ]
    },
    {
      "cell_type": "markdown",
      "source": [
        "#Dictionaries\n"
      ],
      "metadata": {
        "id": "TP0i3Bvk920s"
      }
    },
    {
      "cell_type": "code",
      "source": [
        "car_dict = {\n",
        "    \"civic\": \"7cr\",\n",
        "    \"honda\": \"hon34\",\n",
        "    \"porshe\": \"SR\"\n",
        "}\n",
        "print(car_dict)"
      ],
      "metadata": {
        "colab": {
          "base_uri": "https://localhost:8080/"
        },
        "id": "RyqN7fjQ7mme",
        "outputId": "e16c9edf-5996-4b5c-ba0f-6bba2d90a597"
      },
      "execution_count": 31,
      "outputs": [
        {
          "output_type": "stream",
          "name": "stdout",
          "text": [
            "{'civic': '7cr', 'honda': 'hon34', 'porshe': 'SR'}\n"
          ]
        }
      ]
    },
    {
      "cell_type": "code",
      "source": [
        "print(car_dict[\"civic\"])"
      ],
      "metadata": {
        "colab": {
          "base_uri": "https://localhost:8080/"
        },
        "id": "wCUjsEXV_sXL",
        "outputId": "321eb26b-900f-4e68-dfae-4ac2ee50ecc2"
      },
      "execution_count": 32,
      "outputs": [
        {
          "output_type": "stream",
          "name": "stdout",
          "text": [
            "7cr\n"
          ]
        }
      ]
    },
    {
      "cell_type": "markdown",
      "source": [
        "# add item in dic\n"
      ],
      "metadata": {
        "id": "38ItWBlfAmpC"
      }
    },
    {
      "cell_type": "code",
      "source": [
        "car_dict[\"tata\"] = \"nano\"\n",
        "print(car_dict)"
      ],
      "metadata": {
        "colab": {
          "base_uri": "https://localhost:8080/"
        },
        "id": "owfI9H-NAKGT",
        "outputId": "b48d4db9-0b30-4327-fda8-a241aff9227b"
      },
      "execution_count": 33,
      "outputs": [
        {
          "output_type": "stream",
          "name": "stdout",
          "text": [
            "{'civic': '7cr', 'honda': 'hon34', 'porshe': 'SR', 'tata': 'nano'}\n"
          ]
        }
      ]
    },
    {
      "cell_type": "markdown",
      "source": [
        "#Function take user input\n"
      ],
      "metadata": {
        "id": "I1yrqnc0GSou"
      }
    },
    {
      "cell_type": "code",
      "source": [
        "def safety():\n",
        "  print(\"Please introduce yourself\")\n"
      ],
      "metadata": {
        "id": "ocd1URzvGMKN"
      },
      "execution_count": 34,
      "outputs": []
    },
    {
      "cell_type": "code",
      "source": [
        "safety()"
      ],
      "metadata": {
        "colab": {
          "base_uri": "https://localhost:8080/"
        },
        "id": "T_gCSmJ7Qbte",
        "outputId": "f9ae88cc-ae15-4a08-d9f0-05b1fa441e87"
      },
      "execution_count": 35,
      "outputs": [
        {
          "output_type": "stream",
          "name": "stdout",
          "text": [
            "Please introduce yourself\n"
          ]
        }
      ]
    },
    {
      "cell_type": "markdown",
      "source": [
        "# parameters"
      ],
      "metadata": {
        "id": "A7EbhLVpQ0S1"
      }
    },
    {
      "cell_type": "code",
      "source": [
        "ignition_on = True\n",
        "def safety(ignition_on):\n",
        "  if ignition_on:\n",
        "    print(\"Please be seated\")"
      ],
      "metadata": {
        "id": "Ub8zZA92QtBt"
      },
      "execution_count": 36,
      "outputs": []
    },
    {
      "cell_type": "code",
      "source": [
        "safety(ignition_on)"
      ],
      "metadata": {
        "colab": {
          "base_uri": "https://localhost:8080/"
        },
        "id": "IwdtHplvRQrV",
        "outputId": "9896e615-f2aa-4695-f184-90f9e4824eb2"
      },
      "execution_count": 37,
      "outputs": [
        {
          "output_type": "stream",
          "name": "stdout",
          "text": [
            "Please be seated\n"
          ]
        }
      ]
    },
    {
      "cell_type": "markdown",
      "source": [
        "#return"
      ],
      "metadata": {
        "id": "cQmW57D4T4r-"
      }
    },
    {
      "cell_type": "code",
      "source": [
        "is_doors_open = True\n",
        "def safety(is_doors_open):\n",
        "  if is_doors_open:\n",
        "    return 0\n",
        "  else:\n",
        "    return 1\n",
        "safety(is_doors_open)"
      ],
      "metadata": {
        "colab": {
          "base_uri": "https://localhost:8080/"
        },
        "id": "J2Y9XlOASPAz",
        "outputId": "5d834f71-e533-4d36-9519-69ab312fce00"
      },
      "execution_count": 38,
      "outputs": [
        {
          "output_type": "execute_result",
          "data": {
            "text/plain": [
              "0"
            ]
          },
          "metadata": {},
          "execution_count": 38
        }
      ]
    },
    {
      "cell_type": "markdown",
      "source": [
        "#user input"
      ],
      "metadata": {
        "id": "ZGcTtt8qUGNp"
      }
    },
    {
      "cell_type": "code",
      "source": [
        "x = input(\"enter the value : \")"
      ],
      "metadata": {
        "colab": {
          "base_uri": "https://localhost:8080/"
        },
        "id": "EfOiYpzECD0b",
        "outputId": "fb54990c-44c2-4496-b6a8-9776f7497698"
      },
      "execution_count": 42,
      "outputs": [
        {
          "name": "stdout",
          "output_type": "stream",
          "text": [
            "enter the value : 2\n"
          ]
        }
      ]
    },
    {
      "cell_type": "code",
      "source": [
        "def switch_cabin_lights(user_input):\n",
        "    user_input = str(user_input).lower()\n",
        "\n",
        "    if user_input in [\"0\", \"off\"]:\n",
        "        return \"off\"\n",
        "    elif user_input in [\"1\", \"on\"]:\n",
        "        return \"on\"\n",
        "    else:\n",
        "        return \"invalid. provide either off or on\"\n",
        "\n",
        "user_input = input(\"Enter the cabin light status: \")\n",
        "cabin_light = switch_cabin_lights(user_input)\n",
        "\n",
        "print(\"cabin light is\", cabin_light)\n"
      ],
      "metadata": {
        "colab": {
          "base_uri": "https://localhost:8080/"
        },
        "id": "LQVNjUHRCJ5K",
        "outputId": "44daaf23-ba9e-49e6-b3a3-a1274585cba3"
      },
      "execution_count": 53,
      "outputs": [
        {
          "output_type": "stream",
          "name": "stdout",
          "text": [
            "Enter the cabin light status: 78\n",
            "cabin light is invalid. provide either off or on\n"
          ]
        }
      ]
    },
    {
      "cell_type": "markdown",
      "source": [
        "#While loop\n"
      ],
      "metadata": {
        "id": "avgsLf1UGzi9"
      }
    },
    {
      "cell_type": "code",
      "source": [
        "i = 1\n",
        "\n",
        "while i  < 5:\n",
        "  print(i)\n",
        "  i = i+1\n",
        "\n"
      ],
      "metadata": {
        "colab": {
          "base_uri": "https://localhost:8080/"
        },
        "id": "8lfgqlilG2sM",
        "outputId": "2aecaa7b-8536-4c69-f533-6a352f427543"
      },
      "execution_count": 60,
      "outputs": [
        {
          "output_type": "stream",
          "name": "stdout",
          "text": [
            "1\n",
            "2\n",
            "3\n",
            "4\n"
          ]
        }
      ]
    },
    {
      "cell_type": "code",
      "source": [
        "i = 10\n",
        "while i > 5:\n",
        "  print(i)\n",
        "  i = i - 1"
      ],
      "metadata": {
        "colab": {
          "base_uri": "https://localhost:8080/"
        },
        "id": "SNLo50rEHOP1",
        "outputId": "66b4a8c7-d85f-4c74-dec6-082cc343c2f5"
      },
      "execution_count": 62,
      "outputs": [
        {
          "output_type": "stream",
          "name": "stdout",
          "text": [
            "10\n",
            "9\n",
            "8\n",
            "7\n",
            "6\n"
          ]
        }
      ]
    }
  ]
}